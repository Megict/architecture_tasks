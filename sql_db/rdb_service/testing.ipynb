{
 "cells": [
  {
   "cell_type": "code",
   "execution_count": 33,
   "id": "adc03f10-5b5a-40b1-a886-cb1b26cab296",
   "metadata": {},
   "outputs": [],
   "source": [
    "import requests\n",
    "import json"
   ]
  },
  {
   "cell_type": "code",
   "execution_count": 46,
   "id": "41e76fbb-f4a2-4fc0-84e4-9693b7df50a1",
   "metadata": {},
   "outputs": [
    {
     "data": {
      "text/plain": [
       "<Response [200]>"
      ]
     },
     "execution_count": 46,
     "metadata": {},
     "output_type": "execute_result"
    }
   ],
   "source": [
    "requests.get(\"http://localhost:8000/main_api/ping\")"
   ]
  },
  {
   "cell_type": "code",
   "execution_count": 10,
   "id": "b5967974-60d8-4b30-b012-55f95055774b",
   "metadata": {},
   "outputs": [
    {
     "data": {
      "text/plain": [
       "<Response [200]>"
      ]
     },
     "execution_count": 10,
     "metadata": {},
     "output_type": "execute_result"
    }
   ],
   "source": [
    "requests.post(\"http://localhost:8000/main_api/user_create_\", json = {\n",
    "    \"user_name\" : \"mxcitn\",\n",
    "    \"user_password\" : \"1234\",\n",
    "\n",
    "    \"name_first\" : \"maksim\",\n",
    "    \"name_last\" : \"gavrilov\"\n",
    "})"
   ]
  },
  {
   "cell_type": "code",
   "execution_count": 43,
   "id": "6cc4b9f8-1d0b-4c1c-af5a-881c9dafcb45",
   "metadata": {},
   "outputs": [
    {
     "name": "stdout",
     "output_type": "stream",
     "text": [
      "<Response [200]>\n",
      "\"OK\"\n"
     ]
    }
   ],
   "source": [
    "result = requests.post(\"http://localhost:8000/main_api/user_initiate_session\", json = {\n",
    "    \"user_name\" : \"mxcitn\",\n",
    "    \"user_password\" : \"1234\"\n",
    "})\n",
    "print(result)\n",
    "print(result.text)"
   ]
  },
  {
   "cell_type": "code",
   "execution_count": 47,
   "id": "38c4e78a-21de-4775-b576-30c85eea1e4a",
   "metadata": {},
   "outputs": [
    {
     "name": "stdout",
     "output_type": "stream",
     "text": [
      "<Response [200]>\n"
     ]
    },
    {
     "data": {
      "text/plain": [
       "[{'user_name': 'conductus', 'first_name': 'Mary', 'last_name': 'Davis'},\n",
       " {'user_name': 'numinouses', 'first_name': 'Mary', 'last_name': 'Lavalley'},\n",
       " {'user_name': 'unconflictingly', 'first_name': 'Mary', 'last_name': 'Hibner'}]"
      ]
     },
     "execution_count": 47,
     "metadata": {},
     "output_type": "execute_result"
    }
   ],
   "source": [
    "result = requests.post(\"http://localhost:8000/main_api/find_user_data\", json = {\n",
    "    \"name_first_mask\" : \"mary\",\n",
    "    \"name_last_mask\" : \"\"\n",
    "})\n",
    "print(result)\n",
    "json.loads(result.text)"
   ]
  },
  {
   "cell_type": "code",
   "execution_count": 57,
   "id": "949768a0-9402-4832-8f20-b30c01e6bab3",
   "metadata": {},
   "outputs": [
    {
     "name": "stdout",
     "output_type": "stream",
     "text": [
      "<Response [200]>\n"
     ]
    },
    {
     "data": {
      "text/plain": [
       "[{'user_name': 'mxcitn_', 'first_name': 'maksim', 'last_name': 'gavrilov'}]"
      ]
     },
     "execution_count": 57,
     "metadata": {},
     "output_type": "execute_result"
    }
   ],
   "source": [
    "result = requests.post(\"http://localhost:8000/main_api/find_user_data\", json = {\n",
    "    \"name_first_mask\" : \"maksim\",\n",
    "    \"name_last_mask\" : \"\"\n",
    "})\n",
    "print(result)\n",
    "json.loads(result.text)"
   ]
  },
  {
   "cell_type": "code",
   "execution_count": 56,
   "id": "013a25fa-f83a-4f54-994f-b695adfd29c4",
   "metadata": {},
   "outputs": [
    {
     "name": "stdout",
     "output_type": "stream",
     "text": [
      "<Response [200]>\n",
      "\"OK\"\n"
     ]
    }
   ],
   "source": [
    "result = requests.post(\"http://localhost:8000/main_api/user_change\", json = {\n",
    "    \"old_user_name\" : \"mxcitn\",\n",
    "    \"old_user_password\" : \"1234\",\n",
    "    \n",
    "    \"user_name\" : \"mxcitn_\",\n",
    "    \"user_password\" : \"1234\",\n",
    "\n",
    "    \"name_first\" : \"maksim\",\n",
    "    \"name_last\" : \"gavrilov\"\n",
    "})\n",
    "print(result)\n",
    "print(result.text)"
   ]
  },
  {
   "cell_type": "code",
   "execution_count": null,
   "id": "89b91ff0-94aa-457a-958f-3ee70df41635",
   "metadata": {},
   "outputs": [],
   "source": []
  }
 ],
 "metadata": {
  "kernelspec": {
   "display_name": "Python 3 (ipykernel)",
   "language": "python",
   "name": "python3"
  },
  "language_info": {
   "codemirror_mode": {
    "name": "ipython",
    "version": 3
   },
   "file_extension": ".py",
   "mimetype": "text/x-python",
   "name": "python",
   "nbconvert_exporter": "python",
   "pygments_lexer": "ipython3",
   "version": "3.8.10"
  }
 },
 "nbformat": 4,
 "nbformat_minor": 5
}
