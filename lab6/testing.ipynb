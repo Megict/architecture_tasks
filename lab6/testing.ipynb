{
 "cells": [
  {
   "cell_type": "code",
   "execution_count": 29,
   "id": "0e8c511b-e011-477d-86df-eafa63c5e114",
   "metadata": {},
   "outputs": [],
   "source": [
    "import requests\n",
    "import json\n",
    "import time"
   ]
  },
  {
   "cell_type": "code",
   "execution_count": 31,
   "id": "7eb1e2ad-5902-4a70-8118-e050623df894",
   "metadata": {},
   "outputs": [
    {
     "data": {
      "text/plain": [
       "'\"status after switch: True\"'"
      ]
     },
     "execution_count": 31,
     "metadata": {},
     "output_type": "execute_result"
    }
   ],
   "source": [
    "requests.get(\"http://localhost:8001/mongo_api/cache_switch\").text"
   ]
  },
  {
   "cell_type": "code",
   "execution_count": 32,
   "id": "5fa91e86-4fe0-4acf-9209-3168d6020d28",
   "metadata": {},
   "outputs": [
    {
     "name": "stdout",
     "output_type": "stream",
     "text": [
      "time to execute: 12.585906505584717\n"
     ]
    }
   ],
   "source": [
    "rs = requests.post(\"http://localhost:8000/mongo_api/authenticate_user\", json = {\n",
    "  \"user_name\": \"1\",\n",
    "  \"user_password\": \"2\"\n",
    "})\n",
    "token = json.loads(rs.text)\n",
    "t_st = time.time()\n",
    "for i in range(1000):\n",
    "    res = requests.post(\"http://localhost:8000/mongo_api/produce_user_baskets\", json = token)\n",
    "t_nd = time.time()\n",
    "print(\"time to execute: \" + str(t_nd - t_st))"
   ]
  },
  {
   "cell_type": "code",
   "execution_count": 33,
   "id": "637c4976-c223-44a5-b20a-bb6890933ea2",
   "metadata": {},
   "outputs": [
    {
     "data": {
      "text/plain": [
       "'\"status after switch: False\"'"
      ]
     },
     "execution_count": 33,
     "metadata": {},
     "output_type": "execute_result"
    }
   ],
   "source": [
    "requests.get(\"http://localhost:8001/mongo_api/cache_switch\").text"
   ]
  },
  {
   "cell_type": "code",
   "execution_count": 35,
   "id": "94df2a66-a551-401b-9a8a-1387f1b96dd8",
   "metadata": {},
   "outputs": [
    {
     "name": "stdout",
     "output_type": "stream",
     "text": [
      "time to execute: 29.151669025421143\n"
     ]
    }
   ],
   "source": [
    "rs = requests.post(\"http://localhost:8000/mongo_api/authenticate_user\", json = {\n",
    "  \"user_name\": \"1\",\n",
    "  \"user_password\": \"2\"\n",
    "})\n",
    "token = json.loads(rs.text)\n",
    "t_st = time.time()\n",
    "for i in range(1000):\n",
    "    res = requests.post(\"http://localhost:8000/mongo_api/produce_user_baskets\", json = token)\n",
    "t_nd = time.time()\n",
    "print(\"time to execute: \" + str(t_nd - t_st))"
   ]
  },
  {
   "cell_type": "code",
   "execution_count": 36,
   "id": "e268f3f8-1a40-4fe1-b09c-3f6565a634e8",
   "metadata": {},
   "outputs": [
    {
     "data": {
      "text/plain": [
       "False"
      ]
     },
     "execution_count": 36,
     "metadata": {},
     "output_type": "execute_result"
    }
   ],
   "source": []
  },
  {
   "cell_type": "code",
   "execution_count": null,
   "id": "8ce72f3e-8589-423d-bbdc-858c5528aa39",
   "metadata": {},
   "outputs": [],
   "source": []
  }
 ],
 "metadata": {
  "kernelspec": {
   "display_name": "Python 3 (ipykernel)",
   "language": "python",
   "name": "python3"
  },
  "language_info": {
   "codemirror_mode": {
    "name": "ipython",
    "version": 3
   },
   "file_extension": ".py",
   "mimetype": "text/x-python",
   "name": "python",
   "nbconvert_exporter": "python",
   "pygments_lexer": "ipython3",
   "version": "3.8.10"
  }
 },
 "nbformat": 4,
 "nbformat_minor": 5
}
