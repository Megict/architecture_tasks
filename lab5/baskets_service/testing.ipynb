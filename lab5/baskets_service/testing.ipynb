{
 "cells": [
  {
   "cell_type": "code",
   "execution_count": 1,
   "id": "adc03f10-5b5a-40b1-a886-cb1b26cab296",
   "metadata": {},
   "outputs": [],
   "source": [
    "import requests\n",
    "import json"
   ]
  },
  {
   "cell_type": "code",
   "execution_count": 3,
   "id": "41e76fbb-f4a2-4fc0-84e4-9693b7df50a1",
   "metadata": {},
   "outputs": [
    {
     "data": {
      "text/plain": [
       "<Response [200]>"
      ]
     },
     "execution_count": 3,
     "metadata": {},
     "output_type": "execute_result"
    }
   ],
   "source": [
    "requests.get(\"http://localhost:8001/main_api/ping\")"
   ]
  },
  {
   "cell_type": "code",
   "execution_count": 28,
   "id": "b5967974-60d8-4b30-b012-55f95055774b",
   "metadata": {},
   "outputs": [
    {
     "name": "stdout",
     "output_type": "stream",
     "text": [
      "<Response [200]>\n",
      "\"user name unavailable\"\n"
     ]
    }
   ],
   "source": [
    "result = requests.post(\"http://localhost:8000/main_api/user_create\", json = {\n",
    "    \"user_name\" : \"mxcitn_3\",\n",
    "    \"user_password\" : \"1234\",\n",
    "\n",
    "    \"name_first\" : \"maksim\",\n",
    "    \"name_last\" : \"gavrilov\"\n",
    "})\n",
    "print(result)\n",
    "print(result.text)"
   ]
  },
  {
   "cell_type": "code",
   "execution_count": 39,
   "id": "6cc4b9f8-1d0b-4c1c-af5a-881c9dafcb45",
   "metadata": {},
   "outputs": [
    {
     "name": "stdout",
     "output_type": "stream",
     "text": [
      "<Response [200]>\n",
      "{\"id\":110,\"username\":\"max_2\",\"name_first\":\"Null\",\"name_last\":\"Null\"}\n"
     ]
    }
   ],
   "source": [
    "result = requests.post(\"http://localhost:8000/main_api/produce_user_data\", json = {\n",
    "    \"user_name\" : \"max_2\",\n",
    "    \"user_password\" : \"1234\"\n",
    "})\n",
    "print(result)\n",
    "print(result.text)"
   ]
  },
  {
   "cell_type": "code",
   "execution_count": 37,
   "id": "38c4e78a-21de-4775-b576-30c85eea1e4a",
   "metadata": {},
   "outputs": [
    {
     "name": "stdout",
     "output_type": "stream",
     "text": [
      "<Response [200]>\n"
     ]
    },
    {
     "data": {
      "text/plain": [
       "[{'user_name': 'conductus', 'first_name': 'Mary', 'last_name': 'Davis'},\n",
       " {'user_name': 'numinouses', 'first_name': 'Mary', 'last_name': 'Lavalley'},\n",
       " {'user_name': 'unconflictingly', 'first_name': 'Mary', 'last_name': 'Hibner'}]"
      ]
     },
     "execution_count": 37,
     "metadata": {},
     "output_type": "execute_result"
    }
   ],
   "source": [
    "result = requests.post(\"http://localhost:8000/main_api/find_user_data\", json = {\n",
    "    \"name_first_mask\" : \"mary\",\n",
    "    \"name_last_mask\" : \"\"\n",
    "})\n",
    "print(result)\n",
    "json.loads(result.text)"
   ]
  },
  {
   "cell_type": "code",
   "execution_count": 38,
   "id": "949768a0-9402-4832-8f20-b30c01e6bab3",
   "metadata": {},
   "outputs": [
    {
     "name": "stdout",
     "output_type": "stream",
     "text": [
      "<Response [200]>\n"
     ]
    },
    {
     "data": {
      "text/plain": [
       "[{'user_name': 'mxcitn_', 'first_name': 'maksim', 'last_name': 'gavrilov'},\n",
       " {'user_name': 'mxcitn_2', 'first_name': 'maksim', 'last_name': 'gavrilov'},\n",
       " {'user_name': 'mxcitn_3', 'first_name': 'maksim', 'last_name': 'gavrilov'}]"
      ]
     },
     "execution_count": 38,
     "metadata": {},
     "output_type": "execute_result"
    }
   ],
   "source": [
    "result = requests.post(\"http://localhost:8001/main_api/find_user_data\", json = {\n",
    "    \"user_name_mask\" : \"mxc\",\n",
    "})\n",
    "print(result)\n",
    "json.loads(result.text)"
   ]
  },
  {
   "cell_type": "code",
   "execution_count": 56,
   "id": "013a25fa-f83a-4f54-994f-b695adfd29c4",
   "metadata": {},
   "outputs": [
    {
     "name": "stdout",
     "output_type": "stream",
     "text": [
      "<Response [200]>\n",
      "\"OK\"\n"
     ]
    }
   ],
   "source": [
    "result = requests.post(\"http://localhost:8000/main_api/user_change\", json = {\n",
    "    \"old_user_name\" : \"mxcitn\",\n",
    "    \"old_user_password\" : \"1234\",\n",
    "    \n",
    "    \"user_name\" : \"mxcitn_\",\n",
    "    \"user_password\" : \"1234\",\n",
    "\n",
    "    \"name_first\" : \"maksim\",\n",
    "    \"name_last\" : \"gavrilov\"\n",
    "})\n",
    "print(result)\n",
    "print(result.text)"
   ]
  },
  {
   "cell_type": "code",
   "execution_count": null,
   "id": "3c25be6a-2d5b-4176-a9ef-4360b3e24f9e",
   "metadata": {},
   "outputs": [],
   "source": []
  },
  {
   "cell_type": "code",
   "execution_count": null,
   "id": "27f62217-cedf-4e60-9af3-438bfb3e671d",
   "metadata": {},
   "outputs": [],
   "source": []
  },
  {
   "cell_type": "code",
   "execution_count": 38,
   "id": "af57a1cf-48c9-4d1e-b2ac-3459420cec6d",
   "metadata": {},
   "outputs": [
    {
     "name": "stdout",
     "output_type": "stream",
     "text": [
      "<Response [200]>\n",
      "226\n"
     ]
    }
   ],
   "source": [
    "result = requests.post(\"http://localhost:8000/main_api/basket_create\", json = {\n",
    "    \"user_name\" : \"mxcitn_\",\n",
    "    \"user_password\" : \"1234\"\n",
    "})\n",
    "print(result)\n",
    "print(result.text)"
   ]
  },
  {
   "cell_type": "code",
   "execution_count": 29,
   "id": "595b988c-9466-446e-97db-db3642ce2ac4",
   "metadata": {},
   "outputs": [
    {
     "name": "stdout",
     "output_type": "stream",
     "text": [
      "<Response [200]>\n"
     ]
    },
    {
     "data": {
      "text/plain": [
       "{'id': 103,\n",
       " 'username': 'mxcitn_',\n",
       " 'name_first': 'maksim',\n",
       " 'name_last': 'gavrilov'}"
      ]
     },
     "execution_count": 29,
     "metadata": {},
     "output_type": "execute_result"
    }
   ],
   "source": [
    "result = requests.post(\"http://localhost:8000/main_api/produce_user_data\", json = {\n",
    "    \"user_name\" : \"mxcitn_\",\n",
    "    \"user_password\" : \"1234\"\n",
    "})\n",
    "print(result)\n",
    "json.loads(result.text)"
   ]
  },
  {
   "cell_type": "code",
   "execution_count": 42,
   "id": "b1f402c0-be2c-48f5-8c53-61ee2f1a5325",
   "metadata": {},
   "outputs": [
    {
     "name": "stdout",
     "output_type": "stream",
     "text": [
      "<Response [200]>\n"
     ]
    },
    {
     "data": {
      "text/plain": [
       "[{'basket_id': 224,\n",
       "  'basket_owned': 103,\n",
       "  'basket_opened': '2024-05-01T02:46:49.176468',\n",
       "  'basket_closed': '2024-05-01T03:01:59.628562',\n",
       "  'basket_contents': [{'id': 182,\n",
       "    'name': 'uralitizing',\n",
       "    'price': 157,\n",
       "    'amount': 2}]},\n",
       " {'basket_id': 226,\n",
       "  'basket_owned': 103,\n",
       "  'basket_opened': '2024-05-01T23:28:14.220814',\n",
       "  'basket_closed': '2024-05-01T23:32:53.085427',\n",
       "  'basket_contents': [{'id': 177,\n",
       "    'name': 'skimmings',\n",
       "    'price': 130,\n",
       "    'amount': 2}]},\n",
       " {'basket_id': 225,\n",
       "  'basket_owned': 103,\n",
       "  'basket_opened': '2024-05-01T22:06:48.136084',\n",
       "  'basket_closed': '2024-05-01T23:33:11.034538',\n",
       "  'basket_contents': [{'id': 177,\n",
       "    'name': 'skimmings',\n",
       "    'price': 130,\n",
       "    'amount': 2},\n",
       "   {'id': 177, 'name': 'skimmings', 'price': 130, 'amount': 2}]}]"
      ]
     },
     "execution_count": 42,
     "metadata": {},
     "output_type": "execute_result"
    }
   ],
   "source": [
    "result = requests.post(\"http://localhost:8000/main_api/produce_user_baskets\", json = {\n",
    "    \"user_name\" : \"mxcitn_\",\n",
    "    \"user_password\" : \"1234\"\n",
    "    \n",
    "})\n",
    "print(result)\n",
    "json.loads(result.text)"
   ]
  },
  {
   "cell_type": "code",
   "execution_count": 41,
   "id": "2214d943-3e3c-4a72-9d82-78d13042ac10",
   "metadata": {},
   "outputs": [
    {
     "name": "stdout",
     "output_type": "stream",
     "text": [
      "<Response [200]>\n"
     ]
    },
    {
     "data": {
      "text/plain": [
       "'OK'"
      ]
     },
     "execution_count": 41,
     "metadata": {},
     "output_type": "execute_result"
    }
   ],
   "source": [
    "result = requests.post(\"http://localhost:8000/main_api/basket_add_item\", json = {\n",
    "    \"user_name\" : \"mxcitn_\",\n",
    "    \"user_password\" : \"1234\",\n",
    "    \n",
    "    \"basket_id\" : \"226\",\n",
    "    \"product_id\" : \"177\",\n",
    "    \"amount\" : \"2\"\n",
    "})\n",
    "print(result)\n",
    "json.loads(result.text)"
   ]
  },
  {
   "cell_type": "code",
   "execution_count": 22,
   "id": "55d70a64-bf26-46a6-b386-d5ef794c83d6",
   "metadata": {},
   "outputs": [
    {
     "name": "stdout",
     "output_type": "stream",
     "text": [
      "<Response [200]>\n"
     ]
    },
    {
     "data": {
      "text/plain": [
       "['ADDING MORE THEN AVAILABLE', 104]"
      ]
     },
     "execution_count": 22,
     "metadata": {},
     "output_type": "execute_result"
    }
   ],
   "source": [
    "result = requests.post(\"http://localhost:8000/main_api/basket_mod_item\", json = {\n",
    "    \"user_name\" : \"mxcitn_\",\n",
    "    \"user_password\" : \"1234\",\n",
    "    \n",
    "    \"basket_id\" : \"224\",\n",
    "    \"product_id\" : \"104\",\n",
    "    \"amount\" : \"24\"\n",
    "})\n",
    "print(result)\n",
    "json.loads(result.text)"
   ]
  },
  {
   "cell_type": "code",
   "execution_count": 18,
   "id": "a0ff22a0-0235-499b-af22-d0d618c616e0",
   "metadata": {},
   "outputs": [
    {
     "name": "stdout",
     "output_type": "stream",
     "text": [
      "<Response [200]>\n"
     ]
    },
    {
     "data": {
      "text/plain": [
       "'OK'"
      ]
     },
     "execution_count": 18,
     "metadata": {},
     "output_type": "execute_result"
    }
   ],
   "source": [
    "result = requests.post(\"http://localhost:8000/main_api/basket_remove_item\", json = {\n",
    "    \"user_name\" : \"mxcitn_\",\n",
    "    \"user_password\" : \"1234\",\n",
    "    \n",
    "    \"basket_id\" : \"224\",\n",
    "    \"product_id\" : \"177\",\n",
    "})\n",
    "print(result)\n",
    "json.loads(result.text)"
   ]
  },
  {
   "cell_type": "code",
   "execution_count": 43,
   "id": "1b98d00c-0450-4f82-aaae-d4a19d5df689",
   "metadata": {},
   "outputs": [
    {
     "name": "stdout",
     "output_type": "stream",
     "text": [
      "<Response [200]>\n"
     ]
    },
    {
     "data": {
      "text/plain": [
       "'CLOSED BASKET'"
      ]
     },
     "execution_count": 43,
     "metadata": {},
     "output_type": "execute_result"
    }
   ],
   "source": [
    "result = requests.post(\"http://localhost:8000/main_api/basket_finalize\", json = {\n",
    "    \"user_name\" : \"mxcitn_\",\n",
    "    \"user_password\" : \"1234\",\n",
    "    \n",
    "    \"basket_id\" : \"225\"\n",
    "})\n",
    "print(result)\n",
    "json.loads(result.text)"
   ]
  },
  {
   "cell_type": "code",
   "execution_count": 41,
   "id": "097ee868-0179-4ce5-bde1-ced0a0126600",
   "metadata": {},
   "outputs": [
    {
     "data": {
      "text/plain": [
       "{'basket_owned': 103,\n",
       " 'basket_opened': '2024-05-01T22:06:48.136084',\n",
       " 'basket_closed': '2024-05-01T23:33:11.034538'}"
      ]
     },
     "execution_count": 41,
     "metadata": {},
     "output_type": "execute_result"
    }
   ],
   "source": [
    "result = requests.get(\"http://localhost:8000/main_api/get_basket_data\", params= {\"basket_id\" : 225})\n",
    "json.loads(result.text)"
   ]
  },
  {
   "cell_type": "code",
   "execution_count": 48,
   "id": "9ea5a5f6-24a4-47e5-8d2f-b9bee73d19a5",
   "metadata": {},
   "outputs": [
    {
     "data": {
      "text/plain": [
       "[{'id': 177, 'name': 'skimmings', 'price': 130, 'amount': 2},\n",
       " {'id': 177, 'name': 'skimmings', 'price': 130, 'amount': 2}]"
      ]
     },
     "execution_count": 48,
     "metadata": {},
     "output_type": "execute_result"
    }
   ],
   "source": [
    "result = requests.get(\"http://localhost:8000/main_api/get_basket_contents\", params= {\"basket_id\" : 225})\n",
    "json.loads(result.text)"
   ]
  },
  {
   "cell_type": "code",
   "execution_count": null,
   "id": "579bb528-b50f-4022-9da2-d6fcae5da2b2",
   "metadata": {},
   "outputs": [],
   "source": []
  },
  {
   "cell_type": "code",
   "execution_count": 50,
   "id": "32318a1b-bd20-48b4-a260-de4ea51f75a4",
   "metadata": {},
   "outputs": [
    {
     "data": {
      "text/plain": [
       "{'id': 101, 'name': 'opsonogen', 'price': 245, 'amount': 10}"
      ]
     },
     "execution_count": 50,
     "metadata": {},
     "output_type": "execute_result"
    }
   ],
   "source": [
    "result = requests.get(\"http://localhost:8000/main_api/get_product_data\", params= {\"product_id\" : 101})\n",
    "json.loads(result.text)"
   ]
  },
  {
   "cell_type": "code",
   "execution_count": 44,
   "id": "fe09a99c-b223-4021-b542-cf90f3ec47cf",
   "metadata": {},
   "outputs": [
    {
     "data": {
      "text/plain": [
       "[{'id': 101, 'name': 'opsonogen', 'price': 245, 'amount': 10},\n",
       " {'id': 102, 'name': 'endodontology', 'price': 255, 'amount': 12},\n",
       " {'id': 103, 'name': 'psychogenically', 'price': 155, 'amount': 2},\n",
       " {'id': 104, 'name': 'relates', 'price': 342, 'amount': 7},\n",
       " {'id': 105, 'name': 'isoster', 'price': 204, 'amount': 0},\n",
       " {'id': 106, 'name': 'stockwright', 'price': 148, 'amount': 2},\n",
       " {'id': 107, 'name': 'amblers', 'price': 221, 'amount': 20},\n",
       " {'id': 108, 'name': 'subconsul', 'price': 240, 'amount': 5},\n",
       " {'id': 109, 'name': 'pseudoeducational', 'price': 179, 'amount': 1},\n",
       " {'id': 110, 'name': 'incurrable', 'price': 213, 'amount': 5},\n",
       " {'id': 111, 'name': 'gantlet', 'price': 112, 'amount': 18},\n",
       " {'id': 112, 'name': 'sporont', 'price': 306, 'amount': 8},\n",
       " {'id': 113, 'name': 'abandonable', 'price': 165, 'amount': 8},\n",
       " {'id': 114, 'name': 'disinflated', 'price': 150, 'amount': 4},\n",
       " {'id': 115, 'name': 'macusi', 'price': 196, 'amount': 3},\n",
       " {'id': 116, 'name': 'counteracted', 'price': 177, 'amount': 2},\n",
       " {'id': 117, 'name': 'halftones', 'price': 171, 'amount': 3},\n",
       " {'id': 118, 'name': 'nosedive', 'price': 285, 'amount': 3},\n",
       " {'id': 119, 'name': 'subcomponents', 'price': 161, 'amount': 6},\n",
       " {'id': 120, 'name': 'hypoderma', 'price': 246, 'amount': 14},\n",
       " {'id': 121, 'name': 'hydrometeorologic', 'price': 309, 'amount': 5},\n",
       " {'id': 122, 'name': 'viewer', 'price': 233, 'amount': 11},\n",
       " {'id': 123, 'name': 'ecumenistic', 'price': 193, 'amount': 23},\n",
       " {'id': 124, 'name': 'polariscoped', 'price': 228, 'amount': 1},\n",
       " {'id': 125, 'name': 'midpit', 'price': 245, 'amount': 11},\n",
       " {'id': 126, 'name': 'sodio', 'price': 207, 'amount': 2},\n",
       " {'id': 127, 'name': 'bals', 'price': 131, 'amount': 14},\n",
       " {'id': 128, 'name': 'galateas', 'price': 210, 'amount': 0},\n",
       " {'id': 129, 'name': 'unzone', 'price': 211, 'amount': 8},\n",
       " {'id': 130, 'name': 'carcinoma', 'price': 186, 'amount': 1},\n",
       " {'id': 131, 'name': 'nonimputative', 'price': 175, 'amount': 12},\n",
       " {'id': 132, 'name': 'cofane', 'price': 203, 'amount': 4},\n",
       " {'id': 133, 'name': 'applicably', 'price': 221, 'amount': 2},\n",
       " {'id': 134, 'name': 'dorsiferous', 'price': 236, 'amount': 19},\n",
       " {'id': 135, 'name': 'erminois', 'price': 262, 'amount': 5},\n",
       " {'id': 136, 'name': 'apothecial', 'price': 232, 'amount': 4},\n",
       " {'id': 137, 'name': 'preadolescents', 'price': 241, 'amount': 0},\n",
       " {'id': 138, 'name': 'deadtongue', 'price': 146, 'amount': 8},\n",
       " {'id': 139, 'name': 'nasals', 'price': 215, 'amount': 12},\n",
       " {'id': 140, 'name': 'spritish', 'price': 206, 'amount': 3},\n",
       " {'id': 141, 'name': 'languageless', 'price': 259, 'amount': 9},\n",
       " {'id': 142, 'name': 'honorific', 'price': 176, 'amount': 3},\n",
       " {'id': 143, 'name': 'connecting', 'price': 326, 'amount': 3},\n",
       " {'id': 144, 'name': 'smitting', 'price': 175, 'amount': 1},\n",
       " {'id': 145, 'name': 'veneraceous', 'price': 219, 'amount': 14},\n",
       " {'id': 146, 'name': 'mollycoddlers', 'price': 166, 'amount': 2},\n",
       " {'id': 147, 'name': 'surfeits', 'price': 190, 'amount': 3},\n",
       " {'id': 148, 'name': 'champertor', 'price': 257, 'amount': 9},\n",
       " {'id': 149, 'name': 'bring', 'price': 236, 'amount': 0},\n",
       " {'id': 150, 'name': 'based', 'price': 184, 'amount': 7},\n",
       " {'id': 151, 'name': 'chaunoprockt', 'price': 144, 'amount': 8},\n",
       " {'id': 152, 'name': 'hairmonger', 'price': 173, 'amount': 5},\n",
       " {'id': 153, 'name': 'motleyer', 'price': 155, 'amount': 12},\n",
       " {'id': 154, 'name': 'melanochroid', 'price': 233, 'amount': 5},\n",
       " {'id': 155, 'name': 'nonradicness', 'price': 197, 'amount': 21},\n",
       " {'id': 156, 'name': 'galactogenetic', 'price': 197, 'amount': 10},\n",
       " {'id': 157, 'name': 'walers', 'price': 148, 'amount': 9},\n",
       " {'id': 158, 'name': 'carrotin', 'price': 168, 'amount': 7},\n",
       " {'id': 159, 'name': 'euplotid', 'price': 271, 'amount': 2},\n",
       " {'id': 160, 'name': 'onlooking', 'price': 105, 'amount': 8},\n",
       " {'id': 161, 'name': 'melopoeia', 'price': 156, 'amount': 1},\n",
       " {'id': 162, 'name': 'unuseful', 'price': 197, 'amount': 1},\n",
       " {'id': 163, 'name': 'anthophilian', 'price': 145, 'amount': 7},\n",
       " {'id': 164, 'name': 'analogist', 'price': 258, 'amount': 16},\n",
       " {'id': 165, 'name': 'squill', 'price': 214, 'amount': 16},\n",
       " {'id': 166, 'name': 'superregistration', 'price': 236, 'amount': 3},\n",
       " {'id': 167, 'name': 'symbols', 'price': 205, 'amount': 3},\n",
       " {'id': 168, 'name': 'arenicola', 'price': 183, 'amount': 3},\n",
       " {'id': 169, 'name': 'cannibalizes', 'price': 233, 'amount': 0},\n",
       " {'id': 170, 'name': 'preimportantly', 'price': 140, 'amount': 6},\n",
       " {'id': 171, 'name': 'justiced', 'price': 94, 'amount': 18},\n",
       " {'id': 172, 'name': 'polychasial', 'price': 189, 'amount': 0},\n",
       " {'id': 173, 'name': 'cothurned', 'price': 281, 'amount': 8},\n",
       " {'id': 174, 'name': 'asseverated', 'price': 228, 'amount': 2},\n",
       " {'id': 175, 'name': 'proscolecine', 'price': 142, 'amount': 5},\n",
       " {'id': 176, 'name': 'parenterally', 'price': 312, 'amount': 18},\n",
       " {'id': 177, 'name': 'skimmings', 'price': 130, 'amount': 5},\n",
       " {'id': 178, 'name': 'tarantulidae', 'price': 231, 'amount': 10},\n",
       " {'id': 179, 'name': 'tehuelet', 'price': 289, 'amount': 7},\n",
       " {'id': 180, 'name': 'wheyness', 'price': 208, 'amount': 2},\n",
       " {'id': 181, 'name': 'rigourism', 'price': 227, 'amount': 7},\n",
       " {'id': 182, 'name': 'uralitizing', 'price': 157, 'amount': 11},\n",
       " {'id': 183, 'name': 'groves', 'price': 205, 'amount': 3},\n",
       " {'id': 184, 'name': 'panna', 'price': 123, 'amount': 4},\n",
       " {'id': 185, 'name': 'unfundamentally', 'price': 291, 'amount': 2},\n",
       " {'id': 186, 'name': 'lipocyte', 'price': 190, 'amount': 7},\n",
       " {'id': 187, 'name': 'baseplug', 'price': 160, 'amount': 8},\n",
       " {'id': 188, 'name': 'mosquitos', 'price': 220, 'amount': 2},\n",
       " {'id': 189, 'name': 'phaenogam', 'price': 232, 'amount': 2},\n",
       " {'id': 190, 'name': 'perpetuable', 'price': 85, 'amount': 3},\n",
       " {'id': 191, 'name': 'neatify', 'price': 148, 'amount': 17},\n",
       " {'id': 192, 'name': 'favouress', 'price': 232, 'amount': 4},\n",
       " {'id': 193, 'name': 'undeliriously', 'price': 237, 'amount': 10},\n",
       " {'id': 194, 'name': 'oshea', 'price': 173, 'amount': 9},\n",
       " {'id': 195, 'name': 'nonprevalently', 'price': 215, 'amount': 6},\n",
       " {'id': 196, 'name': 'shirra', 'price': 265, 'amount': 1},\n",
       " {'id': 197, 'name': 'garance', 'price': 236, 'amount': 11},\n",
       " {'id': 198, 'name': 'indehiscence', 'price': 216, 'amount': 6},\n",
       " {'id': 199, 'name': 'lover', 'price': 240, 'amount': 4},\n",
       " {'id': 200, 'name': 'unark', 'price': 202, 'amount': 7},\n",
       " {'id': 202, 'name': 'carrot', 'price': 150, 'amount': 15},\n",
       " {'id': 203, 'name': 'apples', 'price': 199, 'amount': 20},\n",
       " {'id': 204, 'name': 'better apples', 'price': 350, 'amount': 20}]"
      ]
     },
     "execution_count": 44,
     "metadata": {},
     "output_type": "execute_result"
    }
   ],
   "source": [
    "result = requests.get(\"http://localhost:8000/main_api/get_all_available_items_list\")\n",
    "sorted(json.loads(result.text), key= lambda x : x['id'])"
   ]
  },
  {
   "cell_type": "code",
   "execution_count": 17,
   "id": "7aa5a4ea-29d0-4501-b52a-c3c39a52b4f6",
   "metadata": {},
   "outputs": [
    {
     "name": "stdout",
     "output_type": "stream",
     "text": [
      "<Response [200]>\n"
     ]
    },
    {
     "data": {
      "text/plain": [
       "'OK'"
      ]
     },
     "execution_count": 17,
     "metadata": {},
     "output_type": "execute_result"
    }
   ],
   "source": [
    "result = requests.post(\"http://localhost:8000/main_api/add_new_product\", json = {\n",
    "    \"product_name\" : \"carrot\",\n",
    "    \"product_price\" : \"200\",\n",
    "    \"product_amount\" : \"10\",\n",
    "})\n",
    "print(result)\n",
    "json.loads(result.text)"
   ]
  },
  {
   "cell_type": "code",
   "execution_count": 28,
   "id": "9d23a802-610f-44c4-adb6-843299939ed4",
   "metadata": {},
   "outputs": [
    {
     "name": "stdout",
     "output_type": "stream",
     "text": [
      "<Response [200]>\n"
     ]
    },
    {
     "data": {
      "text/plain": [
       "{'id': 202, 'name': 'carrot', 'price': 150, 'amount': 15}"
      ]
     },
     "execution_count": 28,
     "metadata": {},
     "output_type": "execute_result"
    }
   ],
   "source": [
    "result = requests.get(\"http://localhost:8000/main_api/get_product_data\", params = {\n",
    "    \"product_id\" : 202,\n",
    "})\n",
    "print(result)\n",
    "json.loads(result.text)"
   ]
  },
  {
   "cell_type": "code",
   "execution_count": 26,
   "id": "ee36fd3f-5fc1-47bf-b7d2-8393f5828687",
   "metadata": {},
   "outputs": [
    {
     "name": "stdout",
     "output_type": "stream",
     "text": [
      "<Response [200]>\n"
     ]
    },
    {
     "data": {
      "text/plain": [
       "'OK'"
      ]
     },
     "execution_count": 26,
     "metadata": {},
     "output_type": "execute_result"
    }
   ],
   "source": [
    "result = requests.post(\"http://localhost:8000/main_api/change_product_data\", json = {\n",
    "    \"product_id\" : 202,\n",
    "    \n",
    "    \"product_name\" : \"carrot\",\n",
    "    \"product_price\" : \"150\",\n",
    "    \"product_amount\" : \"15\",\n",
    "})\n",
    "print(result)\n",
    "json.loads(result.text)"
   ]
  },
  {
   "cell_type": "code",
   "execution_count": 27,
   "id": "89b91ff0-94aa-457a-958f-3ee70df41635",
   "metadata": {},
   "outputs": [
    {
     "name": "stdout",
     "output_type": "stream",
     "text": [
      "<Response [200]>\n"
     ]
    },
    {
     "data": {
      "text/plain": [
       "{'id': 202, 'name': 'carrot', 'price': 150, 'amount': 15}"
      ]
     },
     "execution_count": 27,
     "metadata": {},
     "output_type": "execute_result"
    }
   ],
   "source": [
    "result = requests.get(\"http://localhost:8000/main_api/get_product_data\", params = {\n",
    "    \"product_id\" : 202,\n",
    "})\n",
    "print(result)\n",
    "json.loads(result.text)"
   ]
  },
  {
   "cell_type": "code",
   "execution_count": null,
   "id": "b6b2ecbc-bf22-4878-b44a-0b39e9b00dbd",
   "metadata": {},
   "outputs": [],
   "source": []
  }
 ],
 "metadata": {
  "kernelspec": {
   "display_name": "Python 3 (ipykernel)",
   "language": "python",
   "name": "python3"
  },
  "language_info": {
   "codemirror_mode": {
    "name": "ipython",
    "version": 3
   },
   "file_extension": ".py",
   "mimetype": "text/x-python",
   "name": "python",
   "nbconvert_exporter": "python",
   "pygments_lexer": "ipython3",
   "version": "3.8.10"
  }
 },
 "nbformat": 4,
 "nbformat_minor": 5
}
